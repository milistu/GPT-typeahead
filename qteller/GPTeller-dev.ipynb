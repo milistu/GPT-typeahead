{
 "cells": [
  {
   "cell_type": "code",
   "execution_count": 1,
   "metadata": {},
   "outputs": [],
   "source": [
    "import os\n",
    "from pathlib import Path\n",
    "\n",
    "import torch\n",
    "from transformers import OpenAIGPTLMHeadModel, OpenAIGPTTokenizer, pipeline, set_seed"
   ]
  },
  {
   "cell_type": "code",
   "execution_count": 2,
   "metadata": {},
   "outputs": [],
   "source": [
    "model = \"openai-gpt\"\n",
    "cache_dir = Path(\"./models\")"
   ]
  },
  {
   "cell_type": "code",
   "execution_count": 3,
   "metadata": {},
   "outputs": [
    {
     "name": "stderr",
     "output_type": "stream",
     "text": [
      "ftfy or spacy is not installed using BERT BasicTokenizer instead of SpaCy & ftfy.\n"
     ]
    }
   ],
   "source": [
    "tokenizer = OpenAIGPTTokenizer.from_pretrained(\n",
    "    pretrained_model_name_or_path=model, cache_dir=cache_dir\n",
    ")\n",
    "model = OpenAIGPTLMHeadModel.from_pretrained(\n",
    "    pretrained_model_name_or_path=model, cache_dir=cache_dir\n",
    ")"
   ]
  },
  {
   "cell_type": "code",
   "execution_count": 6,
   "metadata": {},
   "outputs": [
    {
     "name": "stdout",
     "output_type": "stream",
     "text": [
      "Number of model parameters: 116_534_784\n"
     ]
    }
   ],
   "source": [
    "print(f\"Number of model parameters: {model.num_parameters():_}\")"
   ]
  },
  {
   "cell_type": "code",
   "execution_count": 25,
   "metadata": {},
   "outputs": [],
   "source": [
    "inputs = tokenizer(\"black shoes for\", return_tensors=\"pt\")\n",
    "outputs = model(**inputs)"
   ]
  },
  {
   "cell_type": "code",
   "execution_count": 31,
   "metadata": {},
   "outputs": [
    {
     "data": {
      "text/plain": [
       "torch.Size([1, 3, 768])"
      ]
     },
     "execution_count": 31,
     "metadata": {},
     "output_type": "execute_result"
    }
   ],
   "source": [
    "last_hidden_states = outputs.last_hidden_state\n",
    "last_hidden_states.shape"
   ]
  },
  {
   "cell_type": "code",
   "execution_count": 46,
   "metadata": {},
   "outputs": [],
   "source": [
    "model_local_path = Path(\n",
    "    \"./models/models--openai-gpt/snapshots/1e0d4f3028acbffb47fe933cea64619c5ec1a002\"\n",
    ")"
   ]
  },
  {
   "cell_type": "code",
   "execution_count": 56,
   "metadata": {},
   "outputs": [],
   "source": [
    "generator = pipeline(\n",
    "    task=\"text-generation\", tokenizer=str(model_local_path), model=str(model_local_path)\n",
    ")"
   ]
  },
  {
   "cell_type": "code",
   "execution_count": 62,
   "metadata": {},
   "outputs": [
    {
     "name": "stdout",
     "output_type": "stream",
     "text": [
      "90 ms ± 2.38 ms per loop (mean ± std. dev. of 7 runs, 10 loops each)\n"
     ]
    }
   ],
   "source": [
    "%%timeit\n",
    "generator(\"black running\", max_length=5, num_return_sequences=5, truncation=True)"
   ]
  },
  {
   "cell_type": "code",
   "execution_count": 88,
   "metadata": {},
   "outputs": [
    {
     "data": {
      "text/plain": [
       "[{'generated_text': '<cars> a red  porsche 306, and'},\n",
       " {'generated_text': '<cars> a red  toyota was parked in her'},\n",
       " {'generated_text': '<cars> a red  pontiac. the last'},\n",
       " {'generated_text': '<cars> a red  honda accord pulled up,'},\n",
       " {'generated_text': '<cars> a red  mazda and a white'}]"
      ]
     },
     "execution_count": 88,
     "metadata": {},
     "output_type": "execute_result"
    }
   ],
   "source": [
    "generator(\"<cars> a red \", max_length=10, num_return_sequences=5, truncation=True)"
   ]
  },
  {
   "cell_type": "code",
   "execution_count": 21,
   "metadata": {},
   "outputs": [
    {
     "data": {
      "text/plain": [
       "'emo idemo'"
      ]
     },
     "execution_count": 21,
     "metadata": {},
     "output_type": "execute_result"
    }
   ],
   "source": [
    "\"idemo idemo\"[2:]"
   ]
  },
  {
   "cell_type": "code",
   "execution_count": 24,
   "metadata": {},
   "outputs": [
    {
     "ename": "NameError",
     "evalue": "name 'inputs' is not defined",
     "output_type": "error",
     "traceback": [
      "\u001b[0;31m---------------------------------------------------------------------------\u001b[0m",
      "\u001b[0;31mNameError\u001b[0m                                 Traceback (most recent call last)",
      "Cell \u001b[0;32mIn[24], line 1\u001b[0m\n\u001b[0;32m----> 1\u001b[0m \u001b[43minputs\u001b[49m\n",
      "\u001b[0;31mNameError\u001b[0m: name 'inputs' is not defined"
     ]
    }
   ],
   "source": [
    "inputs"
   ]
  },
  {
   "cell_type": "code",
   "execution_count": 27,
   "metadata": {},
   "outputs": [
    {
     "data": {
      "text/plain": [
       "CausalLMOutput(loss=None, logits=tensor([[[ -7.4770,  -4.0750, -13.4248,  ..., -11.0718,  -7.2856,  -2.0470],\n",
       "         [ -9.4497,  -5.7451, -18.7257,  ..., -12.9325, -14.6207,  -1.6253],\n",
       "         [ -8.8216,  -6.6085, -16.2628,  ..., -10.8845,  -6.8129,  -2.1984]]],\n",
       "       grad_fn=<UnsafeViewBackward0>), hidden_states=None, attentions=None)"
      ]
     },
     "execution_count": 27,
     "metadata": {},
     "output_type": "execute_result"
    }
   ],
   "source": [
    "outputs"
   ]
  },
  {
   "cell_type": "markdown",
   "metadata": {},
   "source": [
    "## Teller without pipeline class"
   ]
  },
  {
   "cell_type": "code",
   "execution_count": 32,
   "metadata": {},
   "outputs": [
    {
     "name": "stderr",
     "output_type": "stream",
     "text": [
      "ftfy or spacy is not installed using BERT BasicTokenizer instead of SpaCy & ftfy.\n"
     ]
    },
    {
     "name": "stdout",
     "output_type": "stream",
     "text": [
      "[ car dealership ] a black mercedes benz. \n",
      " \" i'm not sure, \" he said. \" it's a little\n"
     ]
    }
   ],
   "source": [
    "import torch\n",
    "from transformers import OpenAIGPTLMHeadModel, OpenAIGPTTokenizer\n",
    "\n",
    "\n",
    "class GPTeller:\n",
    "    def __init__(self, model_id=\"openai-gpt\", cache_dir=\"./cache_dir\", device=None):\n",
    "        self.tokenizer = OpenAIGPTTokenizer.from_pretrained(\n",
    "            model_id, cache_dir=cache_dir\n",
    "        )\n",
    "        self.model = OpenAIGPTLMHeadModel.from_pretrained(model_id, cache_dir=cache_dir)\n",
    "        self.device = torch.device(\n",
    "            \"cuda\" if torch.cuda.is_available() and device is None else \"cpu\"\n",
    "        )\n",
    "        self.model.to(self.device)\n",
    "\n",
    "    def generate_text(self, prompt, max_length=50, temperature=1.0, top_k=0, top_p=0.9):\n",
    "        encoded_input = self.tokenizer.encode(prompt, return_tensors=\"pt\")\n",
    "        encoded_input = encoded_input.to(self.device)\n",
    "\n",
    "        # Generate outputs\n",
    "        outputs = self.model.generate(\n",
    "            encoded_input,\n",
    "            max_length=max_length + len(encoded_input[0]),\n",
    "            temperature=temperature,\n",
    "            top_k=top_k,\n",
    "            top_p=top_p,\n",
    "            pad_token_id=self.tokenizer.eos_token_id,\n",
    "            no_repeat_ngram_size=2,\n",
    "        )\n",
    "\n",
    "        generated_text = self.tokenizer.decode(outputs[0], skip_special_tokens=True)\n",
    "        return generated_text\n",
    "\n",
    "\n",
    "# Example usage:\n",
    "gpt_teller = GPTeller(cache_dir=\"../cache_dir\")\n",
    "prompt = \"[car dealership] A black\"\n",
    "generated_text = gpt_teller.generate_text(\n",
    "    prompt, max_length=20, temperature=0.8, top_k=50, top_p=0.95\n",
    ")\n",
    "print(generated_text)"
   ]
  },
  {
   "cell_type": "code",
   "execution_count": 167,
   "metadata": {},
   "outputs": [
    {
     "name": "stdout",
     "output_type": "stream",
     "text": [
      "tensor([ 293, 8148, 3080,  294, 6444, 1964])\n"
     ]
    },
    {
     "data": {
      "text/plain": [
       "6"
      ]
     },
     "execution_count": 167,
     "metadata": {},
     "output_type": "execute_result"
    }
   ],
   "source": [
    "# prompt = \"[car dealership] A black\"\n",
    "prompt = \"[web shop] sugar free\"\n",
    "\n",
    "encoded_input = tokenizer.encode(prompt, return_tensors=\"pt\")\n",
    "print(encoded_input[0])\n",
    "len(encoded_input[0])"
   ]
  },
  {
   "cell_type": "code",
   "execution_count": 168,
   "metadata": {},
   "outputs": [],
   "source": [
    "outputs = model.generate(\n",
    "    inputs=encoded_input,\n",
    "    max_length=len(encoded_input[0]) + 3,\n",
    "    num_return_sequences=3,\n",
    "    num_beams=5,\n",
    "    num_beam_groups=5,\n",
    "    no_repeat_ngram_size=2,\n",
    "    early_stopping=True,\n",
    "    diversity_penalty=1.0,\n",
    ")"
   ]
  },
  {
   "cell_type": "code",
   "execution_count": 169,
   "metadata": {},
   "outputs": [
    {
     "data": {
      "text/plain": [
       "tensor([[  293,  8148,  3080,   294,  6444,  1964, 40477, 11731, 11189],\n",
       "        [  293,  8148,  3080,   294,  6444,  1964,   267, 40477,   481],\n",
       "        [  293,  8148,  3080,   294,  6444,  1964,   239, 40477,   244]])"
      ]
     },
     "execution_count": 169,
     "metadata": {},
     "output_type": "execute_result"
    }
   ],
   "source": [
    "outputs"
   ]
  },
  {
   "cell_type": "code",
   "execution_count": 170,
   "metadata": {},
   "outputs": [
    {
     "data": {
      "text/plain": [
       "['[ web shop ] sugar free \\n smashwords edition',\n",
       " '[ web shop ] sugar free! \\n the',\n",
       " '[ web shop ] sugar free. \\n \"']"
      ]
     },
     "execution_count": 170,
     "metadata": {},
     "output_type": "execute_result"
    }
   ],
   "source": [
    "[tokenizer.decode(output, skip_special_tokens=True) for output in outputs]"
   ]
  },
  {
   "cell_type": "code",
   "execution_count": null,
   "metadata": {},
   "outputs": [],
   "source": []
  }
 ],
 "metadata": {
  "kernelspec": {
   "display_name": ".venv",
   "language": "python",
   "name": "python3"
  },
  "language_info": {
   "codemirror_mode": {
    "name": "ipython",
    "version": 3
   },
   "file_extension": ".py",
   "mimetype": "text/x-python",
   "name": "python",
   "nbconvert_exporter": "python",
   "pygments_lexer": "ipython3",
   "version": "3.10.13"
  }
 },
 "nbformat": 4,
 "nbformat_minor": 2
}
